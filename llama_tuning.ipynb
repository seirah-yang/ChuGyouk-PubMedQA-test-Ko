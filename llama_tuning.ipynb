{
 "cells": [
  {
   "cell_type": "code",
   "execution_count": 1,
   "id": "20f41658",
   "metadata": {},
   "outputs": [
    {
     "name": "stdout",
     "output_type": "stream",
     "text": [
      "🦥 Unsloth: Will patch your computer to enable 2x faster free finetuning.\n"
     ]
    },
    {
     "name": "stderr",
     "output_type": "stream",
     "text": [
      "/home/alpaco/anaconda3/envs/unsloth-env/lib/python3.11/site-packages/tqdm/auto.py:21: TqdmWarning: IProgress not found. Please update jupyter and ipywidgets. See https://ipywidgets.readthedocs.io/en/stable/user_install.html\n",
      "  from .autonotebook import tqdm as notebook_tqdm\n",
      "Skipping import of cpp extensions due to incompatible torch version 2.8.0+cu128 for torchao version 0.14.1             Please see https://github.com/pytorch/ao/issues/2919 for more info\n"
     ]
    },
    {
     "name": "stdout",
     "output_type": "stream",
     "text": [
      "🦥 Unsloth Zoo will now patch everything to make training faster!\n"
     ]
    }
   ],
   "source": [
    "from unsloth import FastLanguageModel, is_bfloat16_supported\n",
    "from trl import SFTTrainer"
   ]
  },
  {
   "cell_type": "code",
   "execution_count": null,
   "id": "b385465f",
   "metadata": {},
   "outputs": [],
   "source": [
    "\n",
    "import torch\n",
    "torch.set_default_device(\"cuda\")  # 새 텐서 기본 디바이스 CUDA\n",
    "\n",
    "from unsloth import FastLanguageModel, is_bfloat16_supported\n",
    "from trl import SFTTrainer\n",
    "from transformers import TrainingArguments, DataCollatorForLanguageModeling\n",
    "import torch\n",
    "from datasets import load_dataset\n",
    "from transformers import TrainingArguments\n",
    "\n",
    "ds = load_dataset(\"ChuGyouk/PubMedQA-test-Ko\")\n",
    "df = ds[\"test\"].to_pandas().dropna(subset=[\"QUESTION\", \"LONG_ANSWER\"])\n",
    "df = df[df[\"QUESTION\"].str.len() > 5]\n",
    "df = df[df[\"LONG_ANSWER\"].str.len() > 5]\n",
    "\n",
    "from datasets import Dataset\n",
    "df[\"text\"] = \"질문: \" + df[\"QUESTION\"] + \"\\n답변: \" + df[\"LONG_ANSWER\"]\n",
    "dataset = Dataset.from_pandas(df[[\"text\"]])\n",
    "split = dataset.train_test_split(test_size=0.2, seed=42)\n",
    "train_ds, valid_ds = split[\"train\"], split[\"test\"]\n"
   ]
  },
  {
   "cell_type": "code",
   "execution_count": 21,
   "id": "dc9b9326",
   "metadata": {},
   "outputs": [
    {
     "name": "stdout",
     "output_type": "stream",
     "text": [
      "==((====))==  Unsloth 2025.10.9: Fast Llama patching. Transformers: 4.56.2.\n",
      "   \\\\   /|    NVIDIA GeForce RTX 3090. Num GPUs = 2. Max memory: 23.691 GB. Platform: Linux.\n",
      "O^O/ \\_/ \\    Torch: 2.8.0+cu128. CUDA: 8.6. CUDA Toolkit: 12.8. Triton: 3.4.0\n",
      "\\        /    Bfloat16 = TRUE. FA [Xformers = 0.0.32.post2. FA2 = False]\n",
      " \"-____-\"     Free license: http://github.com/unslothai/unsloth\n",
      "Unsloth: Fast downloading is enabled - ignore downloading bars which are red colored!\n"
     ]
    }
   ],
   "source": [
    "import torch\n",
    "from datasets import load_dataset\n",
    "from transformers import TrainingArguments\n",
    "\n",
    "max_seq_length = 512\n",
    "model, tokenizer = FastLanguageModel.from_pretrained(\n",
    "    model_name=\"unsloth/Meta-Llama-3.1-8B-Instruct-bnb-4bit\",\n",
    "    max_seq_length=max_seq_length,\n",
    "    dtype=None,\n",
    "    load_in_4bit=True,\n",
    "    device_map=\"auto\",\n",
    ")\n",
    "\n",
    "# 학습 모드로 전환\n",
    "model = FastLanguageModel.for_training(model)"
   ]
  },
  {
   "cell_type": "code",
   "execution_count": 22,
   "id": "98952ace",
   "metadata": {},
   "outputs": [
    {
     "name": "stdout",
     "output_type": "stream",
     "text": [
      " 모델 로드 완료 (cuda)\n"
     ]
    }
   ],
   "source": [
    "import os\n",
    "os.environ[\"CUDA_VISIBLE_DEVICES\"] = \"0\"  # GPU 0번만 사용하도록 고정\n",
    "\n",
    "model = FastLanguageModel.get_peft_model(\n",
    "    model,\n",
    "    r=16,\n",
    "    target_modules=[\"q_proj\",\"k_proj\",\"v_proj\",\"o_proj\",\"gate_proj\",\"up_proj\",\"down_proj\"],\n",
    "    lora_alpha=16,\n",
    "    lora_dropout=0.0,\n",
    "    bias=\"none\",\n",
    "    use_gradient_checkpointing=\"unsloth\",\n",
    "    random_state=3407,\n",
    ")\n",
    "\n",
    "device = \"cuda\" if torch.cuda.is_available() else \"cpu\"\n",
    "model = model.to(device)\n",
    "print(f\" 모델 로드 완료 ({device})\")"
   ]
  },
  {
   "cell_type": "code",
   "execution_count": null,
   "id": "952145cf",
   "metadata": {},
   "outputs": [],
   "source": [
    "dl = trainer.get_train_dataloader()\n",
    "batch = next(iter(dl))\n",
    "batch = {k: v.to(\"cuda:0\") for k, v in batch.items() if hasattr(v, \"to\")}\n",
    "with torch.no_grad():\n",
    "    _ = model(**batch)\n",
    "print(\"✅ 1-batch GPU forward OK\")"
   ]
  },
  {
   "cell_type": "code",
   "execution_count": null,
   "id": "187a13dc",
   "metadata": {},
   "outputs": [],
   "source": [
    "max_seq_length = 512\n",
    "\n",
    "# 1) 모델 로드: device_map=None로 두고 명시적으로 CUDA:0로 이동\n",
    "model, tokenizer = FastLanguageModel.from_pretrained(\n",
    "    model_name=\"unsloth/Meta-Llama-3.1-8B-Instruct-bnb-4bit\",\n",
    "    max_seq_length=max_seq_length,\n",
    "    dtype=None,\n",
    "    load_in_4bit=True,\n",
    "    device_map=None,     # auto 금지 (혼선 방지)\n",
    ")\n",
    "model = model.to(\"cuda:0\")\n",
    "model = FastLanguageModel.for_training(model)\n",
    "\n",
    "# 2) CUDA 강제 collator (배치가 CPU에 남지 않도록 보장)\n",
    "base_collator = DataCollatorForLanguageModeling(tokenizer=tokenizer, mlm=False)\n",
    "def cuda_collator(features):\n",
    "    batch = base_collator(features)\n",
    "    return {k: (v.cuda(non_blocking=True) if torch.is_tensor(v) else v) for k, v in batch.items()}\n",
    "\n",
    "# 3) TrainingArguments (안정화 옵션 포함)\n",
    "training_args = TrainingArguments(\n",
    "    output_dir=\"outputs\",\n",
    "    per_device_train_batch_size=3,\n",
    "    gradient_accumulation_steps=4,\n",
    "    warmup_steps=5,\n",
    "    max_steps=60,\n",
    "    learning_rate=2e-4,\n",
    "    fp16=not is_bfloat16_supported(),\n",
    "    bf16=is_bfloat16_supported(),\n",
    "    logging_steps=5,\n",
    "    optim=\"adamw_8bit\",\n",
    "    weight_decay=0.01,\n",
    "    lr_scheduler_type=\"linear\",\n",
    "    seed=3407,\n",
    "    eval_strategy=\"steps\",\n",
    "    eval_steps=10,\n",
    "    save_strategy=\"no\",\n",
    "    report_to=\"none\",\n",
    "    remove_unused_columns=False,\n",
    "    # 안정화 옵션\n",
    "    dataloader_pin_memory=True,\n",
    "    dataloader_num_workers=0,\n",
    ")\n",
    "\n",
    "# 4) SFTTrainer\n",
    "trainer = SFTTrainer(\n",
    "    model=model,\n",
    "    tokenizer=tokenizer,\n",
    "    train_dataset=train_ds,\n",
    "    eval_dataset=valid_ds,\n",
    "    dataset_text_field=\"text\",\n",
    "    max_seq_length=max_seq_length,\n",
    "    dataset_num_proc=2,\n",
    "    packing=False,\n",
    "    args=training_args,\n",
    "    data_collator=cuda_collator,  # 🔴 중요: CUDA 강제 collator 사용\n",
    ")\n",
    "\n",
    "# 5) train() 전에 1-batch sanity check (GPU로 잘 가는지 확인)\n",
    "dl = trainer.get_train_dataloader()\n",
    "batch = next(iter(dl))\n",
    "batch = {k: (v.to(\"cuda:0\") if torch.is_tensor(v) else v) for k, v in batch.items()}\n",
    "with torch.no_grad():\n",
    "    _ = model(**batch)\n",
    "print(\"✅ 1-batch GPU forward OK\")\n",
    "\n",
    "# 6) 학습\n",
    "trainer_stats = trainer.train()\n",
    "print(\"✅ Fine-tuning complete!\")\n",
    "\n",
    "# 7) Inference 모드 전환 및 저장\n",
    "FastLanguageModel.for_inference(model)\n",
    "model.save_pretrained(\"lora_model_llama3\")\n",
    "tokenizer.save_pretrained(\"lora_model_llama3\")\n",
    "\n",
    "try:\n",
    "    model.save_pretrained_merged(\"lora_model_llama3_merged\", tokenizer, save_method=\"merged_16bit\")\n",
    "    print(\"✅ 병합 저장 완료\")\n",
    "except Exception as e:\n",
    "    print(\"⚠️ 병합 저장 실패:\", e)\n",
    "\n",
    "trainer.save_state()\n",
    "trainer.save_model(\"lora_model_llama3_trainer\")\n",
    "print(\"✅ Trainer 상태 저장 완료\")\n"
   ]
  },
  {
   "cell_type": "code",
   "execution_count": null,
   "id": "6d7b5bc2",
   "metadata": {},
   "outputs": [],
   "source": [
    "def tokenize_function(examples):\n",
    "    return tokenizer(examples[\"text\"], truncation=True, padding=\"max_length\", max_length=512)\n",
    "\n",
    "tokenized_test_ds = valid_ds.map(tokenize_function, batched=True)\n",
    "# 평가 시에도 같은 collator를 쓸 수 있게 trainer에 이미 지정되어 있음\n",
    "eval_results = trainer.evaluate(tokenized_test_ds)\n",
    "print(\"📊 평가 결과:\", eval_results)\n",
    "\n",
    "# ------------------------ Test (생성) ------------------------\n",
    "# 병합 모델(16bit) 로드 시 device_map=None + 명시적 CUDA 이동 권장\n",
    "model, tokenizer = FastLanguageModel.from_pretrained(\n",
    "    model_name=\"lora_model_llama3_merged\",\n",
    "    max_seq_length=512,\n",
    "    dtype=torch.float16,  \n",
    "    load_in_4bit=False,\n",
    "    device_map=None,\n",
    ")\n",
    "model = model.to(\"cuda:0\")\n",
    "model.eval()"
   ]
  },
  {
   "cell_type": "code",
   "execution_count": 25,
   "id": "8217db71",
   "metadata": {},
   "outputs": [
    {
     "name": "stdout",
     "output_type": "stream",
     "text": [
      "💬 모델 응답: 배변 시 핸드폰 사용 습관이 직장암에 미치는 영향은? \n",
      "직장암 환자군과 대조군을 비교하여 연구한 결과, 직장암 환자군의 핸드폰 사용 습관을 분석한 결과, 핸드폰 사용 후 배변 시 핸드폰 사용이 직장암 발병률이 더 높게 나타났습니다. \n",
      "직장암 환자군의 핸드폰 사용 습관은 핸드폰 사용 후 배변 시 핸드폰 사용이 직장암 발병률이 더 높게 나타났습니다. \n",
      "직장암 환자군의 핸드폰 사용 습\n"
     ]
    }
   ],
   "source": [
    "prompt = \"배변 시 핸드폰 사용 습관이 직장암에 미치는 영향은?\"\n",
    "inputs = tokenizer(prompt, return_tensors=\"pt\").to(\"cuda:0\")\n",
    "with torch.no_grad():\n",
    "    outputs = model.generate(**inputs, max_new_tokens=128)\n",
    "print(\"💬 모델 응답:\", tokenizer.decode(outputs[0], skip_special_tokens=True))"
   ]
  }
 ],
 "metadata": {
  "kernelspec": {
   "display_name": "unsloth-env",
   "language": "python",
   "name": "python3"
  },
  "language_info": {
   "codemirror_mode": {
    "name": "ipython",
    "version": 3
   },
   "file_extension": ".py",
   "mimetype": "text/x-python",
   "name": "python",
   "nbconvert_exporter": "python",
   "pygments_lexer": "ipython3",
   "version": "3.11.14"
  }
 },
 "nbformat": 4,
 "nbformat_minor": 5
}
